{
 "cells": [
  {
   "cell_type": "markdown",
   "metadata": {},
   "source": [
    "### Optimizing the advertisement campaign of a luxury SUV using CTR( Click Through Rate) as a metric"
   ]
  },
  {
   "cell_type": "code",
   "execution_count": 1,
   "metadata": {},
   "outputs": [],
   "source": [
    "# Importing the dataset\n",
    "dataset = read.csv('Ads_CTR_Optimisation.csv')"
   ]
  },
  {
   "cell_type": "code",
   "execution_count": 2,
   "metadata": {},
   "outputs": [
    {
     "data": {
      "text/html": [
       "<table>\n",
       "<thead><tr><th scope=col>Ad.1</th><th scope=col>Ad.2</th><th scope=col>Ad.3</th><th scope=col>Ad.4</th><th scope=col>Ad.5</th><th scope=col>Ad.6</th><th scope=col>Ad.7</th><th scope=col>Ad.8</th><th scope=col>Ad.9</th><th scope=col>Ad.10</th></tr></thead>\n",
       "<tbody>\n",
       "\t<tr><td>1</td><td>0</td><td>0</td><td>0</td><td>1</td><td>0</td><td>0</td><td>0</td><td>1</td><td>0</td></tr>\n",
       "\t<tr><td>0</td><td>0</td><td>0</td><td>0</td><td>0</td><td>0</td><td>0</td><td>0</td><td>1</td><td>0</td></tr>\n",
       "\t<tr><td>0</td><td>0</td><td>0</td><td>0</td><td>0</td><td>0</td><td>0</td><td>0</td><td>0</td><td>0</td></tr>\n",
       "\t<tr><td>0</td><td>1</td><td>0</td><td>0</td><td>0</td><td>0</td><td>0</td><td>1</td><td>0</td><td>0</td></tr>\n",
       "\t<tr><td>0</td><td>0</td><td>0</td><td>0</td><td>0</td><td>0</td><td>0</td><td>0</td><td>0</td><td>0</td></tr>\n",
       "\t<tr><td>1</td><td>1</td><td>0</td><td>0</td><td>0</td><td>0</td><td>0</td><td>0</td><td>0</td><td>0</td></tr>\n",
       "</tbody>\n",
       "</table>\n"
      ],
      "text/latex": [
       "\\begin{tabular}{r|llllllllll}\n",
       " Ad.1 & Ad.2 & Ad.3 & Ad.4 & Ad.5 & Ad.6 & Ad.7 & Ad.8 & Ad.9 & Ad.10\\\\\n",
       "\\hline\n",
       "\t 1 & 0 & 0 & 0 & 1 & 0 & 0 & 0 & 1 & 0\\\\\n",
       "\t 0 & 0 & 0 & 0 & 0 & 0 & 0 & 0 & 1 & 0\\\\\n",
       "\t 0 & 0 & 0 & 0 & 0 & 0 & 0 & 0 & 0 & 0\\\\\n",
       "\t 0 & 1 & 0 & 0 & 0 & 0 & 0 & 1 & 0 & 0\\\\\n",
       "\t 0 & 0 & 0 & 0 & 0 & 0 & 0 & 0 & 0 & 0\\\\\n",
       "\t 1 & 1 & 0 & 0 & 0 & 0 & 0 & 0 & 0 & 0\\\\\n",
       "\\end{tabular}\n"
      ],
      "text/markdown": [
       "\n",
       "Ad.1 | Ad.2 | Ad.3 | Ad.4 | Ad.5 | Ad.6 | Ad.7 | Ad.8 | Ad.9 | Ad.10 | \n",
       "|---|---|---|---|---|---|\n",
       "| 1 | 0 | 0 | 0 | 1 | 0 | 0 | 0 | 1 | 0 | \n",
       "| 0 | 0 | 0 | 0 | 0 | 0 | 0 | 0 | 1 | 0 | \n",
       "| 0 | 0 | 0 | 0 | 0 | 0 | 0 | 0 | 0 | 0 | \n",
       "| 0 | 1 | 0 | 0 | 0 | 0 | 0 | 1 | 0 | 0 | \n",
       "| 0 | 0 | 0 | 0 | 0 | 0 | 0 | 0 | 0 | 0 | \n",
       "| 1 | 1 | 0 | 0 | 0 | 0 | 0 | 0 | 0 | 0 | \n",
       "\n",
       "\n"
      ],
      "text/plain": [
       "  Ad.1 Ad.2 Ad.3 Ad.4 Ad.5 Ad.6 Ad.7 Ad.8 Ad.9 Ad.10\n",
       "1 1    0    0    0    1    0    0    0    1    0    \n",
       "2 0    0    0    0    0    0    0    0    1    0    \n",
       "3 0    0    0    0    0    0    0    0    0    0    \n",
       "4 0    1    0    0    0    0    0    1    0    0    \n",
       "5 0    0    0    0    0    0    0    0    0    0    \n",
       "6 1    1    0    0    0    0    0    0    0    0    "
      ]
     },
     "metadata": {},
     "output_type": "display_data"
    }
   ],
   "source": [
    "head(dataset)"
   ]
  },
  {
   "cell_type": "markdown",
   "metadata": {},
   "source": [
    "There are 10 different versions of an advertisement and the user gets exposed to all these versions. 1 indicates the user has clicked on that particular advertisement while 0 indicates no click."
   ]
  },
  {
   "cell_type": "code",
   "execution_count": 3,
   "metadata": {},
   "outputs": [],
   "source": [
    "# Implementing Thompson Sampling\n",
    "N = 10000\n",
    "d = 10\n",
    "ads_selected = integer(0)\n",
    "numbers_of_rewards_1 = integer(d)\n",
    "numbers_of_rewards_0 = integer(d)\n",
    "total_reward = 0\n",
    "for (n in 1:N) {\n",
    "  ad = 0\n",
    "  max_random = 0\n",
    "  for (i in 1:d) {\n",
    "    random_beta = rbeta(n = 1,\n",
    "                        shape1 = numbers_of_rewards_1[i] + 1,\n",
    "                        shape2 = numbers_of_rewards_0[i] + 1)\n",
    "    if (random_beta > max_random) {\n",
    "      max_random = random_beta\n",
    "      ad = i\n",
    "    }\n",
    "  }\n",
    "  ads_selected = append(ads_selected, ad)\n",
    "  reward = dataset[n, ad]\n",
    "  if (reward == 1) {\n",
    "    numbers_of_rewards_1[ad] = numbers_of_rewards_1[ad] + 1\n",
    "  } else {\n",
    "    numbers_of_rewards_0[ad] = numbers_of_rewards_0[ad] + 1\n",
    "  }\n",
    "  total_reward = total_reward + reward\n",
    "}"
   ]
  },
  {
   "cell_type": "code",
   "execution_count": 4,
   "metadata": {},
   "outputs": [
    {
     "data": {
      "image/png": "[encoded data removed]",
      "text/plain": [
       "Plot with title \"Histogram of ads selections\""
      ]
     },
     "metadata": {},
     "output_type": "display_data"
    }
   ],
   "source": [
    "# Visualising the results\n",
    "options(repr.plot.width=5, repr.plot.height=5)\n",
    "hist(ads_selected,\n",
    "     col = 'blue',\n",
    "     main = 'Histogram of ads selections',\n",
    "     xlab = 'Ads',\n",
    "     ylab = 'Number of times each ad was selected')"
   ]
  },
  {
   "cell_type": "code",
   "execution_count": 5,
   "metadata": {},
   "outputs": [
    {
     "data": {
      "image/png": "[encoded data removed]",
      "text/plain": [
       "Plot with title \"Histogram of ads selections\""
      ]
     },
     "metadata": {},
     "output_type": "display_data"
    }
   ],
   "source": [
    "# Implementing Random Selection\n",
    "N = 10000\n",
    "d = 10\n",
    "ads_selected = integer(0)\n",
    "total_reward = 0\n",
    "for (n in 1:N) {\n",
    "  ad = sample(1:10, 1)\n",
    "  ads_selected = append(ads_selected, ad)\n",
    "  reward = dataset[n, ad]\n",
    "  total_reward = total_reward + reward\n",
    "}\n",
    "\n",
    "# Visualising the results\n",
    "hist(ads_selected,\n",
    "     col = 'blue',\n",
    "     main = 'Histogram of ads selections',\n",
    "     xlab = 'Ads',\n",
    "     ylab = 'Number of times each ad was selected')"
   ]
  },
  {
   "cell_type": "markdown",
   "metadata": {},
   "source": [
    "The random curve gives a uniform prediction for each advertisement. The advertisement number 5 on the otherhand clearly dominates the number of times it is selected when compared to other advertisements as viewed from the graph of UCB.\n",
    "\n",
    "It can also be seen Thompson Sampling outperforms Upper Confidence Bound."
   ]
  },
  {
   "cell_type": "code",
   "execution_count": 6,
   "metadata": {},
   "outputs": [
    {
     "data": {
      "text/html": [
       "<ol class=list-inline>\n",
       "\t<li>15</li>\n",
       "\t<li>7</li>\n",
       "\t<li>1</li>\n",
       "\t<li>0</li>\n",
       "\t<li>2546</li>\n",
       "\t<li>1</li>\n",
       "\t<li>1</li>\n",
       "\t<li>16</li>\n",
       "\t<li>14</li>\n",
       "\t<li>0</li>\n",
       "</ol>\n"
      ],
      "text/latex": [
       "\\begin{enumerate*}\n",
       "\\item 15\n",
       "\\item 7\n",
       "\\item 1\n",
       "\\item 0\n",
       "\\item 2546\n",
       "\\item 1\n",
       "\\item 1\n",
       "\\item 16\n",
       "\\item 14\n",
       "\\item 0\n",
       "\\end{enumerate*}\n"
      ],
      "text/markdown": [
       "1. 15\n",
       "2. 7\n",
       "3. 1\n",
       "4. 0\n",
       "5. 2546\n",
       "6. 1\n",
       "7. 1\n",
       "8. 16\n",
       "9. 14\n",
       "10. 0\n",
       "\n",
       "\n"
      ],
      "text/plain": [
       " [1]   15    7    1    0 2546    1    1   16   14    0"
      ]
     },
     "metadata": {},
     "output_type": "display_data"
    }
   ],
   "source": [
    "numbers_of_rewards_1"
   ]
  },
  {
   "cell_type": "code",
   "execution_count": 7,
   "metadata": {},
   "outputs": [
    {
     "data": {
      "text/html": [
       "<ol class=list-inline>\n",
       "\t<li>94</li>\n",
       "\t<li>62</li>\n",
       "\t<li>31</li>\n",
       "\t<li>24</li>\n",
       "\t<li>6917</li>\n",
       "\t<li>31</li>\n",
       "\t<li>31</li>\n",
       "\t<li>94</li>\n",
       "\t<li>90</li>\n",
       "\t<li>25</li>\n",
       "</ol>\n"
      ],
      "text/latex": [
       "\\begin{enumerate*}\n",
       "\\item 94\n",
       "\\item 62\n",
       "\\item 31\n",
       "\\item 24\n",
       "\\item 6917\n",
       "\\item 31\n",
       "\\item 31\n",
       "\\item 94\n",
       "\\item 90\n",
       "\\item 25\n",
       "\\end{enumerate*}\n"
      ],
      "text/markdown": [
       "1. 94\n",
       "2. 62\n",
       "3. 31\n",
       "4. 24\n",
       "5. 6917\n",
       "6. 31\n",
       "7. 31\n",
       "8. 94\n",
       "9. 90\n",
       "10. 25\n",
       "\n",
       "\n"
      ],
      "text/plain": [
       " [1]   94   62   31   24 6917   31   31   94   90   25"
      ]
     },
     "metadata": {},
     "output_type": "display_data"
    }
   ],
   "source": [
    "numbers_of_rewards_0"
   ]
  }
 ],
 "metadata": {
  "kernelspec": {
   "display_name": "R",
   "language": "R",
   "name": "ir"
  },
  "language_info": {
   "codemirror_mode": "r",
   "file_extension": ".r",
   "mimetype": "text/x-r-source",
   "name": "R",
   "pygments_lexer": "r",
   "version": "3.4.3"
  }
 },
 "nbformat": 4,
 "nbformat_minor": 2
}
