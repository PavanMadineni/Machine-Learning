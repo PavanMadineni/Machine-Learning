{
 "cells": [
  {
   "cell_type": "markdown",
   "metadata": {},
   "source": [
    "### Building a Convolutional Neural Network to identify if an image is a dog or a cat"
   ]
  },
  {
   "cell_type": "code",
   "execution_count": 1,
   "metadata": {},
   "outputs": [
    {
     "name": "stderr",
     "output_type": "stream",
     "text": [
      "C:\\Users\\pavan\\Anaconda3\\envs\\tensorflow\\lib\\site-packages\\h5py\\__init__.py:36: FutureWarning: Conversion of the second argument of issubdtype from `float` to `np.floating` is deprecated. In future, it will be treated as `np.float64 == np.dtype(float).type`.\n",
      "  from ._conv import register_converters as _register_converters\n",
      "Using TensorFlow backend.\n"
     ]
    }
   ],
   "source": [
    "# Importing the Keras libraries and packages\n",
    "from keras.models import Sequential\n",
    "from keras.layers import Convolution2D\n",
    "from keras.layers import MaxPooling2D\n",
    "from keras.layers import Flatten\n",
    "from keras.layers import Dense"
   ]
  },
  {
   "cell_type": "code",
   "execution_count": 2,
   "metadata": {},
   "outputs": [],
   "source": [
    "# Initialising the CNN\n",
    "classifier = Sequential()"
   ]
  },
  {
   "cell_type": "code",
   "execution_count": 3,
   "metadata": {},
   "outputs": [
    {
     "name": "stderr",
     "output_type": "stream",
     "text": [
      "C:\\Users\\pavan\\Anaconda3\\envs\\tensorflow\\lib\\site-packages\\ipykernel_launcher.py:2: UserWarning: Update your `Conv2D` call to the Keras 2 API: `Conv2D(32, (3, 3), input_shape=(64, 64, 3..., activation=\"relu\")`\n",
      "  \n"
     ]
    }
   ],
   "source": [
    "# Step 1 - Convolution\n",
    "classifier.add(Convolution2D(32, 3, 3, input_shape = (64, 64, 3), activation = 'relu'))"
   ]
  },
  {
   "cell_type": "code",
   "execution_count": 4,
   "metadata": {},
   "outputs": [],
   "source": [
    "# Step 2 - Pooling\n",
    "classifier.add(MaxPooling2D(pool_size = (2, 2)))"
   ]
  },
  {
   "cell_type": "code",
   "execution_count": 5,
   "metadata": {},
   "outputs": [
    {
     "name": "stderr",
     "output_type": "stream",
     "text": [
      "C:\\Users\\pavan\\Anaconda3\\envs\\tensorflow\\lib\\site-packages\\ipykernel_launcher.py:2: UserWarning: Update your `Conv2D` call to the Keras 2 API: `Conv2D(32, (3, 3), activation=\"relu\")`\n",
      "  \n"
     ]
    }
   ],
   "source": [
    "# Adding a second convolutional layer\n",
    "classifier.add(Convolution2D(32, 3, 3, activation = 'relu'))\n",
    "classifier.add(MaxPooling2D(pool_size = (2, 2)))"
   ]
  },
  {
   "cell_type": "code",
   "execution_count": 6,
   "metadata": {},
   "outputs": [],
   "source": [
    "# Step 3 - Flattening\n",
    "classifier.add(Flatten())"
   ]
  },
  {
   "cell_type": "code",
   "execution_count": 7,
   "metadata": {},
   "outputs": [
    {
     "name": "stderr",
     "output_type": "stream",
     "text": [
      "C:\\Users\\pavan\\Anaconda3\\envs\\tensorflow\\lib\\site-packages\\ipykernel_launcher.py:2: UserWarning: Update your `Dense` call to the Keras 2 API: `Dense(activation=\"relu\", units=128)`\n",
      "  \n",
      "C:\\Users\\pavan\\Anaconda3\\envs\\tensorflow\\lib\\site-packages\\ipykernel_launcher.py:3: UserWarning: Update your `Dense` call to the Keras 2 API: `Dense(activation=\"sigmoid\", units=1)`\n",
      "  This is separate from the ipykernel package so we can avoid doing imports until\n"
     ]
    }
   ],
   "source": [
    "# Step 4 - Full connection\n",
    "classifier.add(Dense(output_dim = 128, activation = 'relu'))\n",
    "classifier.add(Dense(output_dim = 1, activation = 'sigmoid'))"
   ]
  },
  {
   "cell_type": "code",
   "execution_count": 8,
   "metadata": {},
   "outputs": [],
   "source": [
    "# Compiling the CNN\n",
    "classifier.compile(optimizer = 'adam', loss = 'binary_crossentropy', metrics = ['accuracy'])"
   ]
  },
  {
   "cell_type": "code",
   "execution_count": 9,
   "metadata": {},
   "outputs": [
    {
     "name": "stdout",
     "output_type": "stream",
     "text": [
      "Found 8000 images belonging to 2 classes.\n",
      "Found 2000 images belonging to 2 classes.\n"
     ]
    },
    {
     "name": "stderr",
     "output_type": "stream",
     "text": [
      "C:\\Users\\pavan\\Anaconda3\\envs\\tensorflow\\lib\\site-packages\\ipykernel_launcher.py:26: UserWarning: The semantics of the Keras 2 argument `steps_per_epoch` is not the same as the Keras 1 argument `samples_per_epoch`. `steps_per_epoch` is the number of batches to draw from the generator at each epoch. Basically steps_per_epoch = samples_per_epoch/batch_size. Similarly `nb_val_samples`->`validation_steps` and `val_samples`->`steps` arguments have changed. Update your method calls accordingly.\n",
      "C:\\Users\\pavan\\Anaconda3\\envs\\tensorflow\\lib\\site-packages\\ipykernel_launcher.py:26: UserWarning: Update your `fit_generator` call to the Keras 2 API: `fit_generator(<keras_pre..., epochs=25, validation_steps=2000, steps_per_epoch=250, validation_data=<keras_pre...)`\n"
     ]
    },
    {
     "name": "stdout",
     "output_type": "stream",
     "text": [
      "Epoch 1/25\n",
      "250/250 [==============================] - 688s 3s/step - loss: 0.6654 - acc: 0.5974 - val_loss: 0.5913 - val_acc: 0.6880\n",
      "Epoch 2/25\n",
      "250/250 [==============================] - 576s 2s/step - loss: 0.6071 - acc: 0.6734 - val_loss: 0.5602 - val_acc: 0.7244\n",
      "Epoch 3/25\n",
      "250/250 [==============================] - 607s 2s/step - loss: 0.5657 - acc: 0.7079 - val_loss: 0.5400 - val_acc: 0.7384\n",
      "Epoch 4/25\n",
      "250/250 [==============================] - 688s 3s/step - loss: 0.5379 - acc: 0.7234 - val_loss: 0.5025 - val_acc: 0.7594\n",
      "Epoch 5/25\n",
      "250/250 [==============================] - 860s 3s/step - loss: 0.5206 - acc: 0.7411 - val_loss: 0.5636 - val_acc: 0.7214\n",
      "Epoch 6/25\n",
      "250/250 [==============================] - 618s 2s/step - loss: 0.4985 - acc: 0.7545 - val_loss: 0.4963 - val_acc: 0.7690\n",
      "Epoch 7/25\n",
      "250/250 [==============================] - 466s 2s/step - loss: 0.4809 - acc: 0.7701 - val_loss: 0.4890 - val_acc: 0.7589\n",
      "Epoch 8/25\n",
      "250/250 [==============================] - 456s 2s/step - loss: 0.4674 - acc: 0.7783 - val_loss: 0.4728 - val_acc: 0.7851\n",
      "Epoch 9/25\n",
      "250/250 [==============================] - 489s 2s/step - loss: 0.4520 - acc: 0.7855 - val_loss: 0.4728 - val_acc: 0.7821\n",
      "Epoch 10/25\n",
      "250/250 [==============================] - 642s 3s/step - loss: 0.4426 - acc: 0.7897 - val_loss: 0.4843 - val_acc: 0.7626\n",
      "Epoch 11/25\n",
      "250/250 [==============================] - 723s 3s/step - loss: 0.4258 - acc: 0.8030 - val_loss: 0.4952 - val_acc: 0.7720\n",
      "Epoch 12/25\n",
      "250/250 [==============================] - 788s 3s/step - loss: 0.4151 - acc: 0.8101 - val_loss: 0.4962 - val_acc: 0.7585\n",
      "Epoch 13/25\n",
      "250/250 [==============================] - 599s 2s/step - loss: 0.3971 - acc: 0.8141 - val_loss: 0.5252 - val_acc: 0.7679\n",
      "Epoch 14/25\n",
      "250/250 [==============================] - 629s 3s/step - loss: 0.3857 - acc: 0.8256 - val_loss: 0.4783 - val_acc: 0.7915\n",
      "Epoch 15/25\n",
      "250/250 [==============================] - 500s 2s/step - loss: 0.3651 - acc: 0.8360 - val_loss: 0.4519 - val_acc: 0.7972\n",
      "Epoch 16/25\n",
      "250/250 [==============================] - 651s 3s/step - loss: 0.3597 - acc: 0.8381 - val_loss: 0.4722 - val_acc: 0.7903\n",
      "Epoch 17/25\n",
      "250/250 [==============================] - 523s 2s/step - loss: 0.3459 - acc: 0.8454 - val_loss: 0.4775 - val_acc: 0.8031\n",
      "Epoch 18/25\n",
      "250/250 [==============================] - 676s 3s/step - loss: 0.3295 - acc: 0.8548 - val_loss: 0.4794 - val_acc: 0.7939\n",
      "Epoch 19/25\n",
      "250/250 [==============================] - 488s 2s/step - loss: 0.3099 - acc: 0.8628 - val_loss: 0.5054 - val_acc: 0.7925\n",
      "Epoch 20/25\n",
      "250/250 [==============================] - 624s 2s/step - loss: 0.2961 - acc: 0.8704 - val_loss: 0.5275 - val_acc: 0.7909\n",
      "Epoch 21/25\n",
      "250/250 [==============================] - 506s 2s/step - loss: 0.2882 - acc: 0.8785 - val_loss: 0.5382 - val_acc: 0.7728\n",
      "Epoch 22/25\n",
      "250/250 [==============================] - 582s 2s/step - loss: 0.2751 - acc: 0.8788 - val_loss: 0.5056 - val_acc: 0.7945\n",
      "Epoch 23/25\n",
      "250/250 [==============================] - 539s 2s/step - loss: 0.2614 - acc: 0.8908 - val_loss: 0.5015 - val_acc: 0.7933\n",
      "Epoch 24/25\n",
      "250/250 [==============================] - 580s 2s/step - loss: 0.2429 - acc: 0.8960 - val_loss: 0.5012 - val_acc: 0.7947\n",
      "Epoch 25/25\n",
      "250/250 [==============================] - 611s 2s/step - loss: 0.2337 - acc: 0.9048 - val_loss: 0.6291 - val_acc: 0.7820\n"
     ]
    },
    {
     "data": {
      "text/plain": [
       "<keras.callbacks.History at 0x1423b81cba8>"
      ]
     },
     "execution_count": 9,
     "metadata": {},
     "output_type": "execute_result"
    }
   ],
   "source": [
    "# Part 2 - Fitting the CNN to the images\n",
    "\n",
    "from keras.preprocessing.image import ImageDataGenerator\n",
    "\n",
    "train_datagen = ImageDataGenerator(rescale = 1./255,\n",
    "                                   shear_range = 0.2,\n",
    "                                   zoom_range = 0.2,\n",
    "                                   horizontal_flip = True)\n",
    "\n",
    "test_datagen = ImageDataGenerator(rescale = 1./255)\n",
    "\n",
    "training_set = train_datagen.flow_from_directory('dataset/training_set',\n",
    "                                                 target_size = (64, 64),\n",
    "                                                 batch_size = 32,\n",
    "                                                 class_mode = 'binary')\n",
    "\n",
    "test_set = test_datagen.flow_from_directory('dataset/test_set',\n",
    "                                            target_size = (64, 64),\n",
    "                                            batch_size = 32,\n",
    "                                            class_mode = 'binary')\n",
    "\n",
    "classifier.fit_generator(training_set,\n",
    "                         samples_per_epoch = 8000,\n",
    "                         nb_epoch = 25,\n",
    "                         validation_data = test_set,\n",
    "                         nb_val_samples = 2000)"
   ]
  },
  {
   "cell_type": "markdown",
   "metadata": {},
   "source": [
    "The convoutional neural network has achieved an accuracy of nearly 80% on the validation images and 90% on the training images."
   ]
  }
 ],
 "metadata": {
  "kernelspec": {
   "display_name": "Python 3",
   "language": "python",
   "name": "python3"
  },
  "language_info": {
   "codemirror_mode": {
    "name": "ipython",
    "version": 3
   },
   "file_extension": ".py",
   "mimetype": "text/x-python",
   "name": "python",
   "nbconvert_exporter": "python",
   "pygments_lexer": "ipython3",
   "version": "3.5.4"
  }
 },
 "nbformat": 4,
 "nbformat_minor": 2
}
