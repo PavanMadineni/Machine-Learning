{
 "cells": [
  {
   "cell_type": "markdown",
   "metadata": {},
   "source": [
    "### Building a model to predict the future salary of a new employee "
   ]
  },
  {
   "cell_type": "code",
   "execution_count": 1,
   "metadata": {},
   "outputs": [],
   "source": [
    "# Importing the dataset\n",
    "dataset = read.csv('Position_Salaries.csv')\n",
    "dataset = dataset[2:3]"
   ]
  },
  {
   "cell_type": "code",
   "execution_count": 2,
   "metadata": {},
   "outputs": [],
   "source": [
    "# Fitting Decision Tree Regression to the dataset\n",
    "# install.packages('rpart')\n",
    "library(rpart)\n",
    "regressor = rpart(formula = Salary ~ .,\n",
    "                  data = dataset,\n",
    "                  control = rpart.control(minsplit = 1))"
   ]
  },
  {
   "cell_type": "code",
   "execution_count": 3,
   "metadata": {},
   "outputs": [],
   "source": [
    "# Predicting a new result with Decision Tree Regression\n",
    "y_pred = predict(regressor, data.frame(Level = 6.5))"
   ]
  },
  {
   "cell_type": "code",
   "execution_count": 6,
   "metadata": {},
   "outputs": [
    {
     "data": {},
     "metadata": {},
     "output_type": "display_data"
    },
    {
     "data": {
      "image/png": "[encoded data removed]",
      "text/plain": [
       "plot without title"
      ]
     },
     "metadata": {},
     "output_type": "display_data"
    }
   ],
   "source": [
    "# Visualising the Decision Tree Regression results (higher resolution)\n",
    "# install.packages('ggplot2')\n",
    "\n",
    "library(repr)\n",
    "# Change plot size to 4 x 3\n",
    "options(repr.plot.width=4, repr.plot.height=3)\n",
    "\n",
    "library(ggplot2)\n",
    "x_grid = seq(min(dataset$Level), max(dataset$Level), 0.01)\n",
    "ggplot() +\n",
    "  geom_point(aes(x = dataset$Level, y = dataset$Salary),\n",
    "             colour = 'red') +\n",
    "  geom_line(aes(x = x_grid, y = predict(regressor, newdata = data.frame(Level = x_grid))),\n",
    "            colour = 'blue') +\n",
    "  ggtitle('Truth or Bluff (Decision Tree Regression)') +\n",
    "  xlab('Level') +\n",
    "  ylab('Salary')"
   ]
  },
  {
   "cell_type": "code",
   "execution_count": 11,
   "metadata": {},
   "outputs": [
    {
     "data": {
      "image/png": "[encoded data removed]",
      "text/plain": [
       "plot without title"
      ]
     },
     "metadata": {},
     "output_type": "display_data"
    }
   ],
   "source": [
    "# Plotting the tree\n",
    "\n",
    "library(repr)\n",
    "# Change plot size to 4 x 3\n",
    "options(repr.plot.width=8, repr.plot.height=5)\n",
    "\n",
    "plot(regressor)\n",
    "text(regressor)"
   ]
  },
  {
   "cell_type": "code",
   "execution_count": 12,
   "metadata": {},
   "outputs": [
    {
     "data": {
      "text/html": [
       "<strong>1:</strong> 250000"
      ],
      "text/latex": [
       "\\textbf{1:} 250000"
      ],
      "text/markdown": [
       "**1:** 250000"
      ],
      "text/plain": [
       "     1 \n",
       "250000 "
      ]
     },
     "metadata": {},
     "output_type": "display_data"
    }
   ],
   "source": [
    "y_pred"
   ]
  }
 ],
 "metadata": {
  "kernelspec": {
   "display_name": "R",
   "language": "R",
   "name": "ir"
  },
  "language_info": {
   "codemirror_mode": "r",
   "file_extension": ".r",
   "mimetype": "text/x-r-source",
   "name": "R",
   "pygments_lexer": "r",
   "version": "3.4.3"
  }
 },
 "nbformat": 4,
 "nbformat_minor": 2
}
