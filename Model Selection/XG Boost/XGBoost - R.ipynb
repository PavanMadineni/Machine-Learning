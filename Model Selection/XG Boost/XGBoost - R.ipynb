{
 "cells": [
  {
   "cell_type": "markdown",
   "metadata": {},
   "source": [
    "### Model to predict if a customer exited from a bank or not based on different parameters like credit score"
   ]
  },
  {
   "cell_type": "code",
   "execution_count": 1,
   "metadata": {},
   "outputs": [],
   "source": [
    "# Importing the dataset\n",
    "dataset = read.csv('Churn_Modelling.csv')\n",
    "dataset = dataset[4:14]"
   ]
  },
  {
   "cell_type": "code",
   "execution_count": 2,
   "metadata": {},
   "outputs": [
    {
     "data": {
      "text/html": [
       "<table>\n",
       "<thead><tr><th scope=col>CreditScore</th><th scope=col>Geography</th><th scope=col>Gender</th><th scope=col>Age</th><th scope=col>Tenure</th><th scope=col>Balance</th><th scope=col>NumOfProducts</th><th scope=col>HasCrCard</th><th scope=col>IsActiveMember</th><th scope=col>EstimatedSalary</th><th scope=col>Exited</th></tr></thead>\n",
       "<tbody>\n",
       "\t<tr><td>619      </td><td>France   </td><td>Female   </td><td>42       </td><td>2        </td><td>     0.00</td><td>1        </td><td>1        </td><td>1        </td><td>101348.88</td><td>1        </td></tr>\n",
       "\t<tr><td>608      </td><td>Spain    </td><td>Female   </td><td>41       </td><td>1        </td><td> 83807.86</td><td>1        </td><td>0        </td><td>1        </td><td>112542.58</td><td>0        </td></tr>\n",
       "\t<tr><td>502      </td><td>France   </td><td>Female   </td><td>42       </td><td>8        </td><td>159660.80</td><td>3        </td><td>1        </td><td>0        </td><td>113931.57</td><td>1        </td></tr>\n",
       "\t<tr><td>699      </td><td>France   </td><td>Female   </td><td>39       </td><td>1        </td><td>     0.00</td><td>2        </td><td>0        </td><td>0        </td><td> 93826.63</td><td>0        </td></tr>\n",
       "\t<tr><td>850      </td><td>Spain    </td><td>Female   </td><td>43       </td><td>2        </td><td>125510.82</td><td>1        </td><td>1        </td><td>1        </td><td> 79084.10</td><td>0        </td></tr>\n",
       "\t<tr><td>645      </td><td>Spain    </td><td>Male     </td><td>44       </td><td>8        </td><td>113755.78</td><td>2        </td><td>1        </td><td>0        </td><td>149756.71</td><td>1        </td></tr>\n",
       "</tbody>\n",
       "</table>\n"
      ],
      "text/latex": [
       "\\begin{tabular}{r|lllllllllll}\n",
       " CreditScore & Geography & Gender & Age & Tenure & Balance & NumOfProducts & HasCrCard & IsActiveMember & EstimatedSalary & Exited\\\\\n",
       "\\hline\n",
       "\t 619       & France    & Female    & 42        & 2         &      0.00 & 1         & 1         & 1         & 101348.88 & 1        \\\\\n",
       "\t 608       & Spain     & Female    & 41        & 1         &  83807.86 & 1         & 0         & 1         & 112542.58 & 0        \\\\\n",
       "\t 502       & France    & Female    & 42        & 8         & 159660.80 & 3         & 1         & 0         & 113931.57 & 1        \\\\\n",
       "\t 699       & France    & Female    & 39        & 1         &      0.00 & 2         & 0         & 0         &  93826.63 & 0        \\\\\n",
       "\t 850       & Spain     & Female    & 43        & 2         & 125510.82 & 1         & 1         & 1         &  79084.10 & 0        \\\\\n",
       "\t 645       & Spain     & Male      & 44        & 8         & 113755.78 & 2         & 1         & 0         & 149756.71 & 1        \\\\\n",
       "\\end{tabular}\n"
      ],
      "text/markdown": [
       "\n",
       "CreditScore | Geography | Gender | Age | Tenure | Balance | NumOfProducts | HasCrCard | IsActiveMember | EstimatedSalary | Exited | \n",
       "|---|---|---|---|---|---|\n",
       "| 619       | France    | Female    | 42        | 2         |      0.00 | 1         | 1         | 1         | 101348.88 | 1         | \n",
       "| 608       | Spain     | Female    | 41        | 1         |  83807.86 | 1         | 0         | 1         | 112542.58 | 0         | \n",
       "| 502       | France    | Female    | 42        | 8         | 159660.80 | 3         | 1         | 0         | 113931.57 | 1         | \n",
       "| 699       | France    | Female    | 39        | 1         |      0.00 | 2         | 0         | 0         |  93826.63 | 0         | \n",
       "| 850       | Spain     | Female    | 43        | 2         | 125510.82 | 1         | 1         | 1         |  79084.10 | 0         | \n",
       "| 645       | Spain     | Male      | 44        | 8         | 113755.78 | 2         | 1         | 0         | 149756.71 | 1         | \n",
       "\n",
       "\n"
      ],
      "text/plain": [
       "  CreditScore Geography Gender Age Tenure Balance   NumOfProducts HasCrCard\n",
       "1 619         France    Female 42  2           0.00 1             1        \n",
       "2 608         Spain     Female 41  1       83807.86 1             0        \n",
       "3 502         France    Female 42  8      159660.80 3             1        \n",
       "4 699         France    Female 39  1           0.00 2             0        \n",
       "5 850         Spain     Female 43  2      125510.82 1             1        \n",
       "6 645         Spain     Male   44  8      113755.78 2             1        \n",
       "  IsActiveMember EstimatedSalary Exited\n",
       "1 1              101348.88       1     \n",
       "2 1              112542.58       0     \n",
       "3 0              113931.57       1     \n",
       "4 0               93826.63       0     \n",
       "5 1               79084.10       0     \n",
       "6 0              149756.71       1     "
      ]
     },
     "metadata": {},
     "output_type": "display_data"
    }
   ],
   "source": [
    "head(dataset)"
   ]
  },
  {
   "cell_type": "code",
   "execution_count": 3,
   "metadata": {},
   "outputs": [],
   "source": [
    "# Encoding the categorical variables as factors\n",
    "dataset$Geography = as.numeric(factor(dataset$Geography,\n",
    "                                      levels = c('France', 'Spain', 'Germany'),\n",
    "                                      labels = c(1, 2, 3)))\n",
    "dataset$Gender = as.numeric(factor(dataset$Gender,\n",
    "                                   levels = c('Female', 'Male'),\n",
    "                                   labels = c(1, 2)))"
   ]
  },
  {
   "cell_type": "code",
   "execution_count": 4,
   "metadata": {},
   "outputs": [
    {
     "name": "stderr",
     "output_type": "stream",
     "text": [
      "Warning message:\n",
      "\"package 'caTools' was built under R version 3.4.3\""
     ]
    }
   ],
   "source": [
    "# Splitting the dataset into the Training set and Test set\n",
    "# install.packages('caTools')\n",
    "library(caTools)\n",
    "set.seed(123)\n",
    "split = sample.split(dataset$Exited, SplitRatio = 0.8)\n",
    "training_set = subset(dataset, split == TRUE)\n",
    "test_set = subset(dataset, split == FALSE)"
   ]
  },
  {
   "cell_type": "code",
   "execution_count": 5,
   "metadata": {},
   "outputs": [
    {
     "name": "stderr",
     "output_type": "stream",
     "text": [
      "Warning message:\n",
      "\"package 'xgboost' was built under R version 3.4.3\""
     ]
    },
    {
     "name": "stdout",
     "output_type": "stream",
     "text": [
      "[1]\ttrain-rmse:0.417724 \n",
      "[2]\ttrain-rmse:0.369587 \n",
      "[3]\ttrain-rmse:0.342099 \n",
      "[4]\ttrain-rmse:0.325681 \n",
      "[5]\ttrain-rmse:0.316158 \n",
      "[6]\ttrain-rmse:0.310497 \n",
      "[7]\ttrain-rmse:0.305414 \n",
      "[8]\ttrain-rmse:0.303013 \n",
      "[9]\ttrain-rmse:0.300683 \n",
      "[10]\ttrain-rmse:0.298272 \n"
     ]
    }
   ],
   "source": [
    "# Fitting XGBoost to the Training set\n",
    "# install.packages('xgboost')\n",
    "library(xgboost)\n",
    "classifier = xgboost(data = as.matrix(training_set[-11]), label = training_set$Exited, nrounds = 10)"
   ]
  },
  {
   "cell_type": "code",
   "execution_count": 6,
   "metadata": {},
   "outputs": [],
   "source": [
    "# Predicting the Test set results\n",
    "y_pred = predict(classifier, newdata = as.matrix(test_set[-11]))\n",
    "y_pred = (y_pred >= 0.5)"
   ]
  },
  {
   "cell_type": "code",
   "execution_count": 7,
   "metadata": {},
   "outputs": [],
   "source": [
    "# Making the Confusion Matrix\n",
    "cm = table(test_set[, 11], y_pred)"
   ]
  },
  {
   "cell_type": "code",
   "execution_count": 8,
   "metadata": {},
   "outputs": [
    {
     "name": "stderr",
     "output_type": "stream",
     "text": [
      "Warning message:\n",
      "\"package 'caret' was built under R version 3.4.3\"Loading required package: lattice\n",
      "Warning message:\n",
      "\"package 'lattice' was built under R version 3.4.3\"Loading required package: ggplot2\n",
      "Warning message:\n",
      "\"package 'ggplot2' was built under R version 3.4.3\""
     ]
    },
    {
     "name": "stdout",
     "output_type": "stream",
     "text": [
      "[1]\ttrain-rmse:0.417724 \n",
      "[2]\ttrain-rmse:0.369587 \n",
      "[3]\ttrain-rmse:0.342099 \n",
      "[4]\ttrain-rmse:0.325681 \n",
      "[5]\ttrain-rmse:0.316158 \n",
      "[6]\ttrain-rmse:0.310497 \n",
      "[7]\ttrain-rmse:0.305414 \n",
      "[8]\ttrain-rmse:0.303013 \n",
      "[9]\ttrain-rmse:0.300683 \n",
      "[10]\ttrain-rmse:0.298272 \n",
      "[1]\ttrain-rmse:0.417724 \n",
      "[2]\ttrain-rmse:0.369587 \n",
      "[3]\ttrain-rmse:0.342099 \n",
      "[4]\ttrain-rmse:0.325681 \n",
      "[5]\ttrain-rmse:0.316158 \n",
      "[6]\ttrain-rmse:0.310497 \n",
      "[7]\ttrain-rmse:0.305414 \n",
      "[8]\ttrain-rmse:0.303013 \n",
      "[9]\ttrain-rmse:0.300683 \n",
      "[10]\ttrain-rmse:0.298272 \n",
      "[1]\ttrain-rmse:0.417724 \n",
      "[2]\ttrain-rmse:0.369587 \n",
      "[3]\ttrain-rmse:0.342099 \n",
      "[4]\ttrain-rmse:0.325681 \n",
      "[5]\ttrain-rmse:0.316158 \n",
      "[6]\ttrain-rmse:0.310497 \n",
      "[7]\ttrain-rmse:0.305414 \n",
      "[8]\ttrain-rmse:0.303013 \n",
      "[9]\ttrain-rmse:0.300683 \n",
      "[10]\ttrain-rmse:0.298272 \n",
      "[1]\ttrain-rmse:0.417724 \n",
      "[2]\ttrain-rmse:0.369587 \n",
      "[3]\ttrain-rmse:0.342099 \n",
      "[4]\ttrain-rmse:0.325681 \n",
      "[5]\ttrain-rmse:0.316158 \n",
      "[6]\ttrain-rmse:0.310497 \n",
      "[7]\ttrain-rmse:0.305414 \n",
      "[8]\ttrain-rmse:0.303013 \n",
      "[9]\ttrain-rmse:0.300683 \n",
      "[10]\ttrain-rmse:0.298272 \n",
      "[1]\ttrain-rmse:0.417724 \n",
      "[2]\ttrain-rmse:0.369587 \n",
      "[3]\ttrain-rmse:0.342099 \n",
      "[4]\ttrain-rmse:0.325681 \n",
      "[5]\ttrain-rmse:0.316158 \n",
      "[6]\ttrain-rmse:0.310497 \n",
      "[7]\ttrain-rmse:0.305414 \n",
      "[8]\ttrain-rmse:0.303013 \n",
      "[9]\ttrain-rmse:0.300683 \n",
      "[10]\ttrain-rmse:0.298272 \n",
      "[1]\ttrain-rmse:0.417724 \n",
      "[2]\ttrain-rmse:0.369587 \n",
      "[3]\ttrain-rmse:0.342099 \n",
      "[4]\ttrain-rmse:0.325681 \n",
      "[5]\ttrain-rmse:0.316158 \n",
      "[6]\ttrain-rmse:0.310497 \n",
      "[7]\ttrain-rmse:0.305414 \n",
      "[8]\ttrain-rmse:0.303013 \n",
      "[9]\ttrain-rmse:0.300683 \n",
      "[10]\ttrain-rmse:0.298272 \n",
      "[1]\ttrain-rmse:0.417724 \n",
      "[2]\ttrain-rmse:0.369587 \n",
      "[3]\ttrain-rmse:0.342099 \n",
      "[4]\ttrain-rmse:0.325681 \n",
      "[5]\ttrain-rmse:0.316158 \n",
      "[6]\ttrain-rmse:0.310497 \n",
      "[7]\ttrain-rmse:0.305414 \n",
      "[8]\ttrain-rmse:0.303013 \n",
      "[9]\ttrain-rmse:0.300683 \n",
      "[10]\ttrain-rmse:0.298272 \n",
      "[1]\ttrain-rmse:0.417724 \n",
      "[2]\ttrain-rmse:0.369587 \n",
      "[3]\ttrain-rmse:0.342099 \n",
      "[4]\ttrain-rmse:0.325681 \n",
      "[5]\ttrain-rmse:0.316158 \n",
      "[6]\ttrain-rmse:0.310497 \n",
      "[7]\ttrain-rmse:0.305414 \n",
      "[8]\ttrain-rmse:0.303013 \n",
      "[9]\ttrain-rmse:0.300683 \n",
      "[10]\ttrain-rmse:0.298272 \n",
      "[1]\ttrain-rmse:0.417724 \n",
      "[2]\ttrain-rmse:0.369587 \n",
      "[3]\ttrain-rmse:0.342099 \n",
      "[4]\ttrain-rmse:0.325681 \n",
      "[5]\ttrain-rmse:0.316158 \n",
      "[6]\ttrain-rmse:0.310497 \n",
      "[7]\ttrain-rmse:0.305414 \n",
      "[8]\ttrain-rmse:0.303013 \n",
      "[9]\ttrain-rmse:0.300683 \n",
      "[10]\ttrain-rmse:0.298272 \n",
      "[1]\ttrain-rmse:0.417724 \n",
      "[2]\ttrain-rmse:0.369587 \n",
      "[3]\ttrain-rmse:0.342099 \n",
      "[4]\ttrain-rmse:0.325681 \n",
      "[5]\ttrain-rmse:0.316158 \n",
      "[6]\ttrain-rmse:0.310497 \n",
      "[7]\ttrain-rmse:0.305414 \n",
      "[8]\ttrain-rmse:0.303013 \n",
      "[9]\ttrain-rmse:0.300683 \n",
      "[10]\ttrain-rmse:0.298272 \n"
     ]
    }
   ],
   "source": [
    "# Applying k-Fold Cross Validation\n",
    "# install.packages('caret')\n",
    "library(caret)\n",
    "folds = createFolds(training_set$Exited, k = 10)\n",
    "cv = lapply(folds, function(x) {\n",
    "  training_fold = training_set[-x, ]\n",
    "  test_fold = training_set[x, ]\n",
    "  classifier = xgboost(data = as.matrix(training_set[-11]), label = training_set$Exited, nrounds = 10)\n",
    "  y_pred = predict(classifier, newdata = as.matrix(test_fold[-11]))\n",
    "  y_pred = (y_pred >= 0.5)\n",
    "  cm = table(test_fold[, 11], y_pred)\n",
    "  accuracy = (cm[1,1] + cm[2,2]) / (cm[1,1] + cm[2,2] + cm[1,2] + cm[2,1])\n",
    "  return(accuracy)\n",
    "})\n",
    "accuracy = mean(as.numeric(cv))"
   ]
  },
  {
   "cell_type": "code",
   "execution_count": 9,
   "metadata": {},
   "outputs": [
    {
     "data": {
      "text/plain": [
       "   y_pred\n",
       "    FALSE TRUE\n",
       "  0  1541   52\n",
       "  1   211  196"
      ]
     },
     "metadata": {},
     "output_type": "display_data"
    }
   ],
   "source": [
    "cm"
   ]
  },
  {
   "cell_type": "code",
   "execution_count": 10,
   "metadata": {},
   "outputs": [
    {
     "data": {
      "text/html": [
       "0.88075"
      ],
      "text/latex": [
       "0.88075"
      ],
      "text/markdown": [
       "0.88075"
      ],
      "text/plain": [
       "[1] 0.88075"
      ]
     },
     "metadata": {},
     "output_type": "display_data"
    }
   ],
   "source": [
    "accuracy"
   ]
  },
  {
   "cell_type": "code",
   "execution_count": null,
   "metadata": {},
   "outputs": [],
   "source": []
  }
 ],
 "metadata": {
  "kernelspec": {
   "display_name": "R",
   "language": "R",
   "name": "ir"
  },
  "language_info": {
   "codemirror_mode": "r",
   "file_extension": ".r",
   "mimetype": "text/x-r-source",
   "name": "R",
   "pygments_lexer": "r",
   "version": "3.4.2"
  }
 },
 "nbformat": 4,
 "nbformat_minor": 2
}
